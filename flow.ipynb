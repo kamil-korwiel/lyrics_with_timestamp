{
 "cells": [
  {
   "cell_type": "markdown",
   "metadata": {},
   "source": [
    "# 0. Model"
   ]
  },
  {
   "cell_type": "code",
   "execution_count": 60,
   "metadata": {},
   "outputs": [],
   "source": [
    "from dataclasses import dataclass\n",
    "\n",
    "@dataclass\n",
    "class Word:\n",
    "    content:str\n",
    "    start:float\n",
    "    end:float\n"
   ]
  },
  {
   "cell_type": "markdown",
   "metadata": {},
   "source": [
    "# 1.Data"
   ]
  },
  {
   "cell_type": "code",
   "execution_count": 61,
   "metadata": {},
   "outputs": [],
   "source": [
    "from pathlib import Path\n",
    "import json\n",
    "\n",
    "def get_gen_words(file:str|Path) -> str:    \n",
    "    with open(file, 'r') as file:\n",
    "        json_lyrics:dict = json.loads(file.read())\n",
    "        text:str = json_lyrics.get('text')\n",
    "       \n",
    "    return text"
   ]
  },
  {
   "cell_type": "code",
   "execution_count": 62,
   "metadata": {},
   "outputs": [],
   "source": [
    "original_lyrics = \"\"\"Passin' around, your blood and your body\n",
    "No conversation to ease up your mind\n",
    "And nobody seems to see the outside of it\n",
    "Preoccupied, and nobody's hiding it\n",
    "Preoccupied, nobody's hiding it\n",
    "Preoccupied, nobody's hiding it\n",
    "Opened your mind, filled it with bullshit \n",
    "Locked up your heart, without even knowing it\n",
    "It must be a sign, the days that we're living in\n",
    "Preoccupied, and nobody's hiding it\n",
    "Preoccupied, and nobody's hiding it\n",
    "Preoccupied, nobody's hiding it\n",
    "Preoccupied, yeah, and nobody's hiding it\n",
    "Preoccupied, and nobody's hiding it\"\"\"\n",
    "\n",
    "generated_lyrics = get_gen_words(Path(\"./gen_lyrics.json\"))"
   ]
  },
  {
   "cell_type": "code",
   "execution_count": 63,
   "metadata": {},
   "outputs": [],
   "source": [
    "# from pathlib import Path\n",
    "# import json\n",
    "\n",
    "def get_segments_lyrics(file:str|Path) -> list[dict]:\n",
    "    segments = []\n",
    "    with open(file, 'r') as file:\n",
    "        json_lyrics:dict = json.loads(file.read())\n",
    "        segments = json_lyrics.get('segments')\n",
    "    return segments\n",
    "\n",
    "def get_words_with_timestamp(file:str|Path) -> list[Word]:\n",
    "    words_with_timestamp:list[Word] = []\n",
    "    \n",
    "    with open(file, 'r') as file:\n",
    "        json_lyrics:dict = json.loads(file.read())\n",
    "        segments:list[dict] = json_lyrics.get('segments')\n",
    "        for seg in segments:\n",
    "            for word_json in seg['words']:\n",
    "                word = Word(\n",
    "                    content=word_json['text'],\n",
    "                    start=word_json['start'],\n",
    "                    end=word_json['end'],\n",
    "                )\n",
    "                words_with_timestamp.append(word)\n",
    "    return words_with_timestamp\n"
   ]
  },
  {
   "cell_type": "code",
   "execution_count": 64,
   "metadata": {},
   "outputs": [],
   "source": [
    "words_with_timestamp = get_words_with_timestamp(Path(\"./gen_lyrics.json\"))"
   ]
  },
  {
   "cell_type": "markdown",
   "metadata": {},
   "source": [
    "# 2.Clean"
   ]
  },
  {
   "cell_type": "code",
   "execution_count": 65,
   "metadata": {},
   "outputs": [],
   "source": [
    "words_org:list[str] = original_lyrics.split()\n",
    "words_gen:list[str] = generated_lyrics.split()"
   ]
  },
  {
   "cell_type": "code",
   "execution_count": 66,
   "metadata": {},
   "outputs": [],
   "source": [
    "words_org_cleaned:list[str] = [word.strip(',') for word in words_org]\n",
    "words_gen_cleaned:list[str] = [word.strip(',') for word in words_gen]"
   ]
  },
  {
   "cell_type": "code",
   "execution_count": 78,
   "metadata": {},
   "outputs": [
    {
     "name": "stdout",
     "output_type": "stream",
     "text": [
      "    original      generated\n",
      "--  ------------  -------------\n",
      " 0  Passin'       Passing\n",
      " 1  around,       around,\n",
      " 2  your          you're\n",
      " 3  blood         blind\n",
      " 4  and           in\n",
      " 5  your          your\n",
      " 6  body          body,\n",
      " 7  No            no\n",
      " 8  conversation  conversation,\n",
      " 9  to            to\n",
      "10  ease          ease\n",
      "11  up            up\n",
      "12  your          your\n",
      "13  mind          mind,\n",
      "14  And           nobody\n",
      "15  nobody        sings,\n",
      "16  seems         to\n",
      "17  to            see\n",
      "18  see           the\n",
      "19  the           outside\n",
      "20  outside       of\n",
      "21  of            it,\n",
      "22  it            preoccupied,\n",
      "23  Preoccupied,  nobody's\n",
      "24  and           hiding\n",
      "25  nobody's      it,\n",
      "26  hiding        preoccupied,\n",
      "27  it            nobody's\n",
      "28  Preoccupied,  hiding\n",
      "29  nobody's      it,\n",
      "30  hiding        preoccupied,\n",
      "31  it            nobody's\n",
      "32  Preoccupied,  hiding\n",
      "33  nobody's      it,\n",
      "34  hiding        opened\n",
      "35  it            your\n",
      "36  Opened        mind,\n",
      "37  your          filled\n",
      "38  mind,         it\n",
      "39  filled        with\n",
      "40  it            bullshit,\n",
      "41  with          locked\n",
      "42  bullshit      up\n",
      "43  Locked        your\n",
      "44  up            heart,\n",
      "45  your          without\n",
      "46  heart,        even\n",
      "47  without       knowing\n",
      "48  even          it,\n",
      "49  knowing       must\n",
      "50  it            be\n",
      "51  It            a\n",
      "52  must          sign,\n",
      "53  be            the\n",
      "54  a             days\n",
      "55  sign,         that\n",
      "56  the           we're\n",
      "57  days          living\n",
      "58  that          in,\n",
      "59  we're         preoccupied,\n",
      "60  living        and\n",
      "61  in            nobody's\n",
      "62  Preoccupied,  hiding\n",
      "63  and           it,\n",
      "64  nobody's      preoccupied,\n",
      "65  hiding        and\n",
      "66  it            nobody's\n",
      "67  Preoccupied,  hiding\n",
      "68  and           it,\n",
      "69  nobody's      preoccupied,\n",
      "70  hiding        nobody's\n",
      "71  it            hiding\n",
      "72  Preoccupied,  it,\n",
      "73  nobody's      preoccupied,\n",
      "74  hiding        and\n",
      "75  it            nobody's\n",
      "76  Preoccupied,  hiding\n",
      "77  yeah,         it,\n",
      "78  and           preoccupied,\n",
      "79  nobody's      and\n",
      "80  hiding        nobody's\n",
      "81  it            hiding\n",
      "82  Preoccupied,  it,\n",
      "83  and\n",
      "84  nobody's\n",
      "85  hiding\n",
      "86  it\n"
     ]
    }
   ],
   "source": [
    "from tabulate import tabulate\n",
    "print(tabulate({\n",
    "    \"original\": words_org,\n",
    "    \"generated\": words_gen,\n",
    "\n",
    "},\n",
    "headers=\"keys\",\n",
    "showindex=\"always\"\n",
    "))"
   ]
  },
  {
   "cell_type": "markdown",
   "metadata": {},
   "source": [
    "# 3. Algorithm"
   ]
  },
  {
   "cell_type": "code",
   "execution_count": null,
   "metadata": {},
   "outputs": [],
   "source": [
    "from pyphonetics import RefinedSoundex\n",
    "\n",
    "def balk_spread_algorithm_with_phonetics(original:list[str], gen:list[str], spread:int = 5, distance:int = 1) -> list[tuple]:\n",
    "    len_gen = len(gen)\n",
    "    len_original = len(original)\n",
    "    rs = RefinedSoundex()\n",
    "\n",
    "    SPREAD = spread\n",
    "\n",
    "    index_balk = 0\n",
    "\n",
    "    index_first_spread_target = 0\n",
    "\n",
    "    similar_words = []\n",
    "\n",
    "    for index_original in range(len_original):\n",
    "        word = original[index_original]\n",
    "\n",
    "\n",
    "        if SPREAD // 2 + index_balk > index_original: \n",
    "            index_first_spread_target = index_balk\n",
    "        else:\n",
    "            index_first_spread_target = index_original - SPREAD // 2\n",
    "\n",
    "        for index_spread in range(index_first_spread_target, SPREAD+index_first_spread_target):\n",
    "            if index_spread < len_gen:\n",
    "                distance_word = rs.distance(word,gen[index_spread])\n",
    "\n",
    "                if distance_word <= distance:\n",
    "                    similar_words.append((index_original, index_spread))\n",
    "                    index_balk = index_spread + 1\n",
    "                    break\n",
    "    \n",
    "    return similar_words"
   ]
  },
  {
   "cell_type": "code",
   "execution_count": 84,
   "metadata": {},
   "outputs": [],
   "source": [
    "indexes_of_similar_words = balk_spread_algorithm_with_phonetics(words_org_cleaned,words_gen_cleaned)"
   ]
  },
  {
   "cell_type": "code",
   "execution_count": 85,
   "metadata": {},
   "outputs": [
    {
     "name": "stdout",
     "output_type": "stream",
     "text": [
      "and 4\n",
      "And 14\n",
      "and 24\n",
      "nobody's 25\n",
      "hiding 26\n",
      "it 27\n",
      "Preoccupied, 28\n",
      "nobody's 29\n",
      "hiding 30\n",
      "it 31\n",
      "Preoccupied, 32\n",
      "nobody's 33\n",
      "hiding 34\n",
      "it 35\n",
      "Opened 36\n",
      "your 37\n",
      "mind, 38\n",
      "filled 39\n",
      "with 41\n",
      "bullshit 42\n",
      "Locked 43\n",
      "up 44\n",
      "your 45\n",
      "heart, 46\n",
      "without 47\n",
      "even 48\n",
      "knowing 49\n",
      "it 50\n",
      "It 51\n",
      "must 52\n",
      "be 53\n",
      "a 54\n",
      "sign, 55\n",
      "days 57\n",
      "that 58\n",
      "we're 59\n",
      "living 60\n",
      "in 61\n",
      "Preoccupied, 62\n",
      "and 63\n",
      "nobody's 64\n",
      "hiding 65\n",
      "it 66\n",
      "Preoccupied, 67\n",
      "and 68\n",
      "yeah, 77\n",
      "Preoccupied, 82\n",
      "and 83\n",
      "nobody's 84\n",
      "hiding 85\n",
      "it 86\n"
     ]
    }
   ],
   "source": [
    "not_connected_indexes:list[str]\n",
    "\n",
    "original_indexes = set([index for index in range(len(words_org))])\n",
    "\n",
    "connected_indexes = set([con[0] for con in indexes_of_similar_words ])\n",
    "\n",
    "diff_indexes = original_indexes.difference(connected_indexes)\n",
    "\n",
    "for index in diff_indexes:\n",
    "    print(words_org[index], index)\n",
    "    "
   ]
  },
  {
   "cell_type": "code",
   "execution_count": 86,
   "metadata": {},
   "outputs": [
    {
     "name": "stdout",
     "output_type": "stream",
     "text": [
      "{ 0    0 }  ->  0  -----  Passin'  ---  Word(content='Passing', start=24.57, end=25.31)\n",
      "{ 1    1 }  ->  0  -----  around,  ---  Word(content='around,', start=25.31, end=26.25)\n",
      "{ 2    2 }  ->  0  -----  your  ---  Word(content=\"you're\", start=29.77, end=30.65)\n",
      "{ 3    3 }  ->  0  -----  blood  ---  Word(content='blind', start=30.65, end=31.01)\n",
      "{ 5    5 }  ->  0  -----  your  ---  Word(content='your', start=31.31, end=31.61)\n",
      "{ 6    6 }  ->  0  -----  body  ---  Word(content='body,', start=31.61, end=32.51)\n",
      "{ 7    7 }  ->  0  -----  No  ---  Word(content='no', start=36.15, end=36.91)\n",
      "{ 8    8 }  ->  0  -----  conversation  ---  Word(content='conversation,', start=36.91, end=38.11)\n",
      "{ 9    9 }  ->  0  -----  to  ---  Word(content='to', start=41.65, end=42.7)\n",
      "{ 10    10 }  ->  0  -----  ease  ---  Word(content='ease', start=42.7, end=43.08)\n",
      "{ 11    11 }  ->  0  -----  up  ---  Word(content='up', start=43.08, end=43.38)\n",
      "{ 12    12 }  ->  0  -----  your  ---  Word(content='your', start=43.38, end=43.64)\n",
      "{ 13    13 }  ->  0  -----  mind  ---  Word(content='mind,', start=43.64, end=44.32)\n",
      "{ 15    14 }  ->  1  -----  nobody  ---  Word(content='nobody', start=48.64, end=49.22)\n",
      "{ 16    15 }  ->  1  -----  seems  ---  Word(content='sings,', start=49.66, end=50.34)\n",
      "{ 17    16 }  ->  1  -----  to  ---  Word(content='to', start=53.8, end=54.72)\n",
      "{ 18    17 }  ->  1  -----  see  ---  Word(content='see', start=54.72, end=55.1)\n",
      "{ 19    18 }  ->  1  -----  the  ---  Word(content='the', start=55.1, end=55.44)\n",
      "{ 20    19 }  ->  1  -----  outside  ---  Word(content='outside', start=55.44, end=56.1)\n",
      "{ 21    20 }  ->  1  -----  of  ---  Word(content='of', start=56.1, end=56.84)\n",
      "{ 22    21 }  ->  1  -----  it  ---  Word(content='it,', start=56.84, end=57.2)\n",
      "{ 23    22 }  ->  1  -----  Preoccupied,  ---  Word(content='preoccupied,', start=60.35, end=62.65)\n",
      "{ 40    39 }  ->  1  -----  it  ---  Word(content='with', start=130.93, end=131.13)\n",
      "{ 56    55 }  ->  1  -----  the  ---  Word(content='that', start=154.74, end=155.06)\n",
      "{ 69    70 }  ->  -1  -----  nobody's  ---  Word(content=\"nobody's\", start=190.64, end=191.71)\n",
      "{ 70    71 }  ->  -1  -----  hiding  ---  Word(content='hiding', start=191.71, end=192.54)\n",
      "{ 71    72 }  ->  -1  -----  it  ---  Word(content='it,', start=192.54, end=193.12)\n",
      "{ 72    73 }  ->  -1  -----  Preoccupied,  ---  Word(content='preoccupied,', start=196.2, end=199.18)\n",
      "{ 73    75 }  ->  -2  -----  nobody's  ---  Word(content=\"nobody's\", start=202.77, end=203.99)\n",
      "{ 74    76 }  ->  -2  -----  hiding  ---  Word(content='hiding', start=203.99, end=204.59)\n",
      "{ 75    77 }  ->  -2  -----  it  ---  Word(content='it,', start=204.59, end=205.13)\n",
      "{ 76    78 }  ->  -2  -----  Preoccupied,  ---  Word(content='preoccupied,', start=208.3, end=211.25)\n",
      "{ 78    79 }  ->  -1  -----  and  ---  Word(content='and', start=214.77, end=214.79)\n",
      "{ 79    80 }  ->  -1  -----  nobody's  ---  Word(content=\"nobody's\", start=214.79, end=215.93)\n",
      "{ 80    81 }  ->  -1  -----  hiding  ---  Word(content='hiding', start=215.93, end=216.67)\n",
      "{ 81    82 }  ->  -1  -----  it  ---  Word(content='it,', start=216.67, end=217.13)\n"
     ]
    }
   ],
   "source": [
    "for o ,g in indexes_of_similar_words:\n",
    "    # if o != g:    \n",
    "        print('{', o, '  ', g,'}',\" -> \", o-g,' ----- ', words_org[o],\" --- \", words_with_timestamp[g] )\n"
   ]
  }
 ],
 "metadata": {
  "kernelspec": {
   "display_name": "venv",
   "language": "python",
   "name": "python3"
  },
  "language_info": {
   "codemirror_mode": {
    "name": "ipython",
    "version": 3
   },
   "file_extension": ".py",
   "mimetype": "text/x-python",
   "name": "python",
   "nbconvert_exporter": "python",
   "pygments_lexer": "ipython3",
   "version": "3.11.11"
  }
 },
 "nbformat": 4,
 "nbformat_minor": 2
}
